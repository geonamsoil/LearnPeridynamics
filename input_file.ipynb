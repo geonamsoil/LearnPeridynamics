{
 "cells": [
  {
   "cell_type": "markdown",
   "id": "7281dff6",
   "metadata": {},
   "source": [
    "# Create an input file"
   ]
  },
  {
   "cell_type": "code",
   "execution_count": 12,
   "id": "29af7f37",
   "metadata": {},
   "outputs": [],
   "source": [
    "import numpy as np\n",
    "import matplotlib.pyplot as plt\n",
    "import sklearn.neighbors as neighbors\n",
    "import h5py"
   ]
  },
  {
   "cell_type": "markdown",
   "id": "4ee8faf6",
   "metadata": {},
   "source": [
    "### Build particle coordinates (2D)\n",
    "\n",
    "The function ```build_particle_coordinates``` is used to build a rectangular set of particles with regular spacing"
   ]
  },
  {
   "cell_type": "code",
   "execution_count": 13,
   "id": "d53ebbd9",
   "metadata": {},
   "outputs": [],
   "source": [
    "def build_particle_coordinates(dx, n_div_x, n_div_y):\n",
    "    \"\"\"\n",
    "    Build particle coordinates\n",
    "    \n",
    "    Parameters\n",
    "    ----------\n",
    "    \n",
    "    Returns\n",
    "    -------\n",
    "\n",
    "    Notes\n",
    "    -----\n",
    "    \n",
    "    \"\"\"\n",
    "    particle_coordinates = np.zeros([n_div_x * n_div_y, 2])\n",
    "    counter = 0\n",
    "\n",
    "    for i_y in range(n_div_y):      # Depth\n",
    "        for i_x in range(n_div_x):  # Length\n",
    "            coord_x = dx * i_x\n",
    "            coord_y = dx * i_y\n",
    "            particle_coordinates[counter, 0] = coord_x\n",
    "            particle_coordinates[counter, 1] = coord_y\n",
    "            counter += 1\n",
    "\n",
    "    return particle_coordinates"
   ]
  },
  {
   "cell_type": "markdown",
   "id": "1bd2a98e",
   "metadata": {},
   "source": [
    "### Build particle families\n",
    "\n",
    "Build a neighbour list of size (n\\_nodes $\\times$ max(n\\_family\\_members)). Pad empty cells with -1\n",
    "\n",
    "$$\\textbf{neighbourlist} =\n",
    "\\begin{bmatrix}\n",
    "   1 & 2 & \\dots & -1 \\\\\n",
    "   2 & 1 & \\dots & -1\\\\\n",
    "   \\vdots & \\vdots & \\dots & -1\\\\\n",
    "   nnodes & nnodes & \\dots & -1\n",
    "\\end{bmatrix}_{\\: nnodes \\, \\times \\, max(n\\_family\\_members)}\n",
    "$$\n"
   ]
  },
  {
   "cell_type": "code",
   "execution_count": 14,
   "id": "421b0e6f",
   "metadata": {},
   "outputs": [],
   "source": [
    "def build_particle_families(x, horizon):\n",
    "    \"\"\"\n",
    "    Build particle families\n",
    "\n",
    "    Parameters\n",
    "    ----------\n",
    "    x : ndarray (float)\n",
    "        Material point coordinates in the reference configuration\n",
    "\n",
    "    horizon : float\n",
    "        Material point horizon (non-local length scale)\n",
    "\n",
    "    Returns\n",
    "    -------\n",
    "    nlist : list of numpy arrays (int)\n",
    "\n",
    "    Notes\n",
    "    -----\n",
    "\n",
    "    \"\"\"\n",
    "    n_nodes = np.shape(x)[0]\n",
    "\n",
    "    tree = neighbors.KDTree(x, leaf_size=160)\n",
    "    neighbour_list = tree.query_radius(x, r = horizon)\n",
    "\n",
    "    # Remove identity values, as there is no bond between a node and itself\n",
    "    neighbour_list = [neighbour_list[i][neighbour_list[i] != i] for i in range(n_nodes)]\n",
    "\n",
    "    n_family_members = [len(neighbour_list[i]) for i in range(n_nodes)]\n",
    "    n_family_members = np.array(n_family_members, dtype = np.intc)\n",
    "\n",
    "    nlist = np.ones((n_nodes, n_family_members.max()), dtype=np.intc) * -1\n",
    "    \n",
    "    for i in range(n_nodes):\n",
    "        nlist[i, :n_family_members[i]] = neighbour_list[i]\n",
    "\n",
    "    nlist = nlist.astype(np.intc)\n",
    "\n",
    "    return nlist"
   ]
  },
  {
   "cell_type": "markdown",
   "id": "4e5f6621",
   "metadata": {},
   "source": [
    "### Build bond list\n",
    "\n",
    "Build a bond list of size (n\\_bonds $\\times$ 2).\n",
    "\n",
    "$$\\textbf{bondlist} =\n",
    "\\begin{bmatrix}\n",
    "   1 & 2 \\\\\n",
    "   1 & 3 \\\\\n",
    "   1 & 4 \\\\\n",
    "   \\vdots & \\vdots \\\\\n",
    "   nbonds & -\n",
    "\\end{bmatrix}_{\\: nbonds \\, \\times \\, 2}\n",
    "$$"
   ]
  },
  {
   "cell_type": "code",
   "execution_count": 15,
   "id": "a33f4055",
   "metadata": {},
   "outputs": [],
   "source": [
    "def build_bond_list(nlist):\n",
    "    \"\"\"\n",
    "    Build bond list\n",
    "    \"\"\"\n",
    "    bondlist = [[i, j] for i, neighbours in enumerate(nlist) for j in neighbours if i < j]\n",
    "    bondlist = np.array(bondlist, dtype=np.intc)\n",
    "    \n",
    "    return bondlist"
   ]
  },
  {
   "cell_type": "markdown",
   "id": "c5323477",
   "metadata": {},
   "source": [
    "### Define boundary conditions\n",
    "\n",
    "This won't work as is. Say for a node that ```bc_flag = 1``` and ```bc_unit_vector = 0```, then that node is constrained\n",
    "\n",
    "* Applied displacement\n",
    "    * Flag (1 - the node is subject to a boundary condition, 0 - no boundary condition)\n",
    "    * Direction (unit vector)\n",
    "    * Magnitude\n",
    "* Applied force\n",
    "    * Flag\n",
    "    * Direction (unit vector)\n",
    "    * Magnitude\n",
    "* Constraint"
   ]
  },
  {
   "cell_type": "code",
   "execution_count": 16,
   "id": "29405879",
   "metadata": {},
   "outputs": [],
   "source": [
    "def build_boundary_conditions(particles):\n",
    "    \n",
    "    bc_flag = np.zeros((len(particles), 2), dtype=np.intc)\n",
    "    bc_unit_vector = np.zeros((len(particles), 2), dtype=np.intc)\n",
    "\n",
    "    for i, particle in enumerate(particles):\n",
    "        if particle[0] < 50:\n",
    "            bc_flag[i, 0] = 1\n",
    "            bc_unit_vector[i, 0] = -1\n",
    "        if particle[0] > 450:\n",
    "            bc_flag[i, 0] = 1\n",
    "            bc_unit_vector[i, 0] = 1\n",
    "\n",
    "    return bc_flag, bc_unit_vector"
   ]
  },
  {
   "cell_type": "markdown",
   "id": "26dee945",
   "metadata": {},
   "source": [
    "### Calculate partial volume correction factors (to improve spatial integration accuracy)"
   ]
  },
  {
   "cell_type": "markdown",
   "id": "d76abf14",
   "metadata": {},
   "source": [
    "### Calculate surface correction factors (to correct the peridynamic surface effect)"
   ]
  },
  {
   "cell_type": "markdown",
   "id": "8034613a",
   "metadata": {},
   "source": [
    "### Constitutive model / calculate bond stiffness"
   ]
  },
  {
   "cell_type": "code",
   "execution_count": 17,
   "id": "196ce913",
   "metadata": {},
   "outputs": [],
   "source": [
    "def calculate_bond_stiffness(E, t, horizon):\n",
    "    \"\"\"\n",
    "    Bond stiffness\n",
    "        - linear elastic model\n",
    "        - 2D\n",
    "        - plane stress\n",
    "        \n",
    "    Parameters\n",
    "    ----------\n",
    "\n",
    "    Returns\n",
    "    -------\n",
    "\n",
    "    Notes\n",
    "    -----\n",
    "\n",
    "    \"\"\"\n",
    "    c = (9 * E) / (np.pi * t * horizon**3)\n",
    "    \n",
    "    return c"
   ]
  },
  {
   "cell_type": "code",
   "execution_count": 18,
   "id": "948b9c9d",
   "metadata": {},
   "outputs": [],
   "source": [
    "def calculate_critical_stretch(G_F, E, horizon):\n",
    "    \"\"\"\n",
    "    Critical stretch\n",
    "        - linear elastic model\n",
    "        - 2D\n",
    "        \n",
    "    Parameters\n",
    "    ----------\n",
    "\n",
    "    Returns\n",
    "    -------\n",
    "\n",
    "    Notes\n",
    "    -----\n",
    "\n",
    "    \"\"\"\n",
    "    sc = np.sqrt((4 * np.pi * G_F) / (9 * E * horizon))\n",
    "    \n",
    "    return sc"
   ]
  },
  {
   "cell_type": "markdown",
   "id": "981e21be",
   "metadata": {},
   "source": [
    "### Calculate stable time step"
   ]
  },
  {
   "cell_type": "code",
   "execution_count": 19,
   "id": "7f9f5f0e",
   "metadata": {},
   "outputs": [],
   "source": [
    "def calculate_stable_time_step():\n",
    "    \"\"\"\n",
    "    Calculate the minimum stable time step\n",
    "    \"\"\"\n",
    "    pass\n",
    "    "
   ]
  },
  {
   "cell_type": "markdown",
   "id": "b132a816",
   "metadata": {},
   "source": [
    "### Save input file as a HDF5 file\n",
    "\n",
    "[Good Usability Practices in Scientific Software Development](https://arxiv.org/pdf/1709.00111.pdf)\n",
    "* Using input and configuration files is defined as one of nine aspects of good usability"
   ]
  },
  {
   "cell_type": "code",
   "execution_count": 20,
   "id": "99878189",
   "metadata": {},
   "outputs": [],
   "source": [
    "def save_input_file(filename, **kwargs):\n",
    "    \"\"\"\n",
    "    Save an input file to be loaded by the simulation module\n",
    "    \"\"\"\n",
    "    for key, values in kwargs.items():\n",
    "        write_array(filename, key, values)\n",
    "    "
   ]
  },
  {
   "cell_type": "code",
   "execution_count": 21,
   "id": "4038df6a",
   "metadata": {},
   "outputs": [],
   "source": [
    "def write_array(write_path, dataset, array):\n",
    "    \"\"\"\n",
    "    Write an array to a HDF5 file\n",
    "    \n",
    "    Parameters\n",
    "    ----------\n",
    "    write_path : str\n",
    "        Path to write the HDF5 file\n",
    "    dataset : str\n",
    "        Name of the dataset saved in the HDF5 file\n",
    "    array : ndarray\n",
    "        Array to be saved\n",
    "\n",
    "    Returns\n",
    "    -------\n",
    "    \n",
    "    Notes\n",
    "    -----\n",
    "    'a' - Read/write if exists, create otherwise\n",
    "\n",
    "    \"\"\"\n",
    "    with h5py.File(write_path, 'a') as h5file:\n",
    "        h5file.create_dataset(dataset,  data=array)"
   ]
  },
  {
   "cell_type": "markdown",
   "id": "1feaf440",
   "metadata": {},
   "source": [
    "### Build input file"
   ]
  },
  {
   "cell_type": "code",
   "execution_count": 22,
   "id": "e719b5e9",
   "metadata": {},
   "outputs": [],
   "source": [
    "def build_input_file():\n",
    "    \n",
    "    dx = 5E-3\n",
    "    n_div_x = 100\n",
    "    n_div_y = 50\n",
    "    horizon = np.pi * dx\n",
    "    cell_volume = dx**2\n",
    "    E = 37E9\n",
    "    G_F = 140\n",
    "    density = 2400\n",
    "    t = dx\n",
    "    \n",
    "    \n",
    "    x = build_particle_coordinates(dx, n_div_x, n_div_y)\n",
    "    nlist = build_particle_families(x, horizon)\n",
    "    bondlist = build_bond_list(nlist)\n",
    "\n",
    "    bc_flag, bc_unit_vector = build_boundary_conditions(x)\n",
    "    \n",
    "    c = calculate_bond_stiffness(E, t, horizon)\n",
    "    sc = calculate_critical_stretch(G_F, E, horizon)\n",
    "    \n",
    "    save_input_file('2D_plate.h5', x=x, bondlist=bondlist,\n",
    "                    bc_flag=bc_flag, bc_unit_vector=bc_unit_vector,\n",
    "                    c=c, sc=sc, density=density, cell_volume=cell_volume)\n",
    "\n",
    "#     fig = plt.figure(figsize=(12,6))\n",
    "#     ax = fig.add_subplot(111)\n",
    "#     ax.scatter(x[:,0], x[:,1], s=20, c=bc_unit_vector[:,0])\n",
    "#     plt.axis('equal')\n",
    "    \n",
    "build_input_file()"
   ]
  }
 ],
 "metadata": {
  "kernelspec": {
   "display_name": "Python 3 (ipykernel)",
   "language": "python",
   "name": "python3"
  },
  "language_info": {
   "codemirror_mode": {
    "name": "ipython",
    "version": 3
   },
   "file_extension": ".py",
   "mimetype": "text/x-python",
   "name": "python",
   "nbconvert_exporter": "python",
   "pygments_lexer": "ipython3",
   "version": "3.8.12"
  }
 },
 "nbformat": 4,
 "nbformat_minor": 5
}
