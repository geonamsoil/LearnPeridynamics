{
 "cells": [
  {
   "cell_type": "markdown",
   "id": "f0f06097",
   "metadata": {},
   "source": [
    "# Run a simulation"
   ]
  },
  {
   "cell_type": "code",
   "execution_count": null,
   "id": "e452b3a7",
   "metadata": {},
   "outputs": [],
   "source": [
    "import numpy as np\n",
    "from numba import njit, prange\n",
    "import matplotlib.pyplot as plt\n",
    "import h5py"
   ]
  },
  {
   "cell_type": "markdown",
   "id": "5b4d9196",
   "metadata": {},
   "source": [
    "### Calculate particle forces using bondlist"
   ]
  },
  {
   "cell_type": "code",
   "execution_count": null,
   "id": "ca2dafc3",
   "metadata": {},
   "outputs": [],
   "source": [
    "@njit(parallel=True)\n",
    "def calculate_nodal_forces(bondlist, x, u, d, c, cell_volume,\n",
    "                           sc, f_x, f_y, f_z, node_force):\n",
    "    \"\"\"\n",
    "    Calculate particle forces - employs bondlist\n",
    "\n",
    "    Parameters\n",
    "    ----------\n",
    "    bondlist : ndarray (int)\n",
    "        Array of pairwise interactions (bond list)\n",
    "    x : ndarray (float)\n",
    "        Material point coordinates in the reference configuration\n",
    "    u : ndarray (float)\n",
    "        Nodal displacement\n",
    "    d : ndarray (float)\n",
    "        Bond damage (softening parameter). The value of d will range from 0\n",
    "        to 1, where 0 indicates that the bond is still in the elastic range,\n",
    "        and 1 represents a bond that has failed\n",
    "    c : float\n",
    "        Bond stiffness\n",
    "\n",
    "    Returns\n",
    "    -------\n",
    "    node_force : ndarray (float)\n",
    "        Nodal force array\n",
    "    d : ndarray (float)\n",
    "        Bond damage (softening parameter). The value of d will range from 0\n",
    "        to 1, where 0 indicates that the bond is still in the elastic range,\n",
    "        and 1 represents a bond that has failed\n",
    "\n",
    "    Notes\n",
    "    -----\n",
    "    * Can the constitutive model function be passed in as an argument?\n",
    "    \n",
    "    \"\"\"\n",
    "    n_bonds = np.shape(bondlist)[0]\n",
    "\n",
    "    for k_bond in prange(n_bonds):\n",
    "\n",
    "        node_i = bondlist[k_bond, 0] - 1\n",
    "        node_j = bondlist[k_bond, 1] - 1\n",
    "\n",
    "        xi_x = x[node_j, 0] - x[node_i, 0]\n",
    "        xi_y = x[node_j, 1] - x[node_i, 1]\n",
    "        xi_z = x[node_j, 2] - x[node_i, 2]\n",
    "\n",
    "        xi_eta_x = xi_x + (u[node_j, 0] - u[node_i, 0])\n",
    "        xi_eta_y = xi_y + (u[node_j, 1] - u[node_i, 1])\n",
    "        xi_eta_z = xi_z + (u[node_j, 2] - u[node_i, 2])\n",
    "\n",
    "        xi = np.sqrt(xi_x**2 + xi_y**2 + xi_z**2)\n",
    "        y = np.sqrt(xi_eta_x**2 + xi_eta_y**2 + xi_eta_z**2)\n",
    "        stretch = (y - xi) / xi\n",
    "\n",
    "        # TODO: allow the user to load different constitutive models or define\n",
    "        # a new law that describes the interaction between two particles\n",
    "        d[k_bond] = linear_constitutive_model(stretch, sc, d[k_bond])\n",
    "\n",
    "        f = stretch * c * (1 - d[k_bond]) * cell_volume\n",
    "        f_x[k_bond] = f * xi_eta_x / y\n",
    "        f_y[k_bond] = f * xi_eta_y / y\n",
    "        f_z[k_bond] = f * xi_eta_z / y\n",
    "\n",
    "    # Reduce bond forces to particle forces\n",
    "    for k_bond in range(n_bonds):\n",
    "\n",
    "        node_i = bondlist[k_bond, 0] - 1\n",
    "        node_j = bondlist[k_bond, 1] - 1\n",
    "\n",
    "        node_force[node_i, 0] += f_x[k_bond]\n",
    "        node_force[node_j, 0] -= f_x[k_bond]\n",
    "        node_force[node_i, 1] += f_y[k_bond]\n",
    "        node_force[node_j, 1] -= f_y[k_bond]\n",
    "        node_force[node_i, 2] += f_z[k_bond]\n",
    "        node_force[node_j, 2] -= f_z[k_bond]\n",
    "\n",
    "    return node_force, d"
   ]
  },
  {
   "cell_type": "markdown",
   "id": "3756a87b",
   "metadata": {},
   "source": [
    "### Update particle positions"
   ]
  },
  {
   "cell_type": "code",
   "execution_count": null,
   "id": "906f644a",
   "metadata": {},
   "outputs": [],
   "source": [
    "@njit(parallel=True)\n",
    "def update_nodal_positions(node_force, u, v, a, damping,\n",
    "                           node_density, dt, \n",
    "                           bc_flag, bc_magnitude, bc_unit_vector):\n",
    "    \"\"\"\n",
    "    Update particle positions using an Euler-Cromer time integration scheme\n",
    "    \n",
    "    Parameters\n",
    "    ----------\n",
    "    u : ndarray (float)\n",
    "        Particle displacement\n",
    "    v : ndarray (float)\n",
    "        Particle velocity\n",
    "    a : ndarray (float)\n",
    "        Particle acceleration\n",
    "\n",
    "    Returns\n",
    "    -------\n",
    "\n",
    "    Notes\n",
    "    -----\n",
    "\n",
    "    \"\"\"\n",
    "\n",
    "    n_nodes = np.shape(node_force)[0]\n",
    "    n_dimensions = np.shape(node_force)[1]\n",
    "\n",
    "    for node_i in prange(n_nodes):\n",
    "        for dof in range(n_dimensions):\n",
    "            a[node_i, dof] = (node_force[node_i, dof] - damping * v[node_i, dof]) / node_density\n",
    "            v[node_i, dof] = v[node_i, dof] + (a[node_i, dof] * dt)\n",
    "            u[node_i, dof] = u[node_i, dof] + (v[node_i, dof] * dt)\n",
    "            \n",
    "            # TODO: how should boundary conditions be applied?\n",
    "            if bc_flag[node_i, dof] != 0:\n",
    "                u[node_i, dof] = bc_magnitude * bc_unit_vector[node_i, dof]\n",
    "\n",
    "    return u, v"
   ]
  },
  {
   "cell_type": "markdown",
   "id": "8c339155",
   "metadata": {},
   "source": [
    "### Constitutive model"
   ]
  },
  {
   "cell_type": "code",
   "execution_count": null,
   "id": "119a0e5f",
   "metadata": {},
   "outputs": [],
   "source": [
    "@njit\n",
    "def linear_constitutive_model(stretch, sc, d):\n",
    "    \"\"\"\n",
    "    Linear constitutive model\n",
    "    \"\"\"\n",
    "    \n",
    "    d_temp = 0.0\n",
    "    \n",
    "    if stretch < sc:\n",
    "        d_temp = 0.0\n",
    "        \n",
    "    elif stretch >= sc:\n",
    "        d_temp = 1.0\n",
    "        \n",
    "    # Bond softening factor can only increase (damage is irreversible)\n",
    "    if d_temp > d:\n",
    "        d = d_temp\n",
    "    \n",
    "    return d"
   ]
  },
  {
   "cell_type": "code",
   "execution_count": null,
   "id": "327a217d",
   "metadata": {},
   "outputs": [],
   "source": [
    "@njit\n",
    "def trilinear_constitutive_model(stretch, s0, s1, sc, d, beta):\n",
    "    \"\"\"\n",
    "    Trilinear constitutive model\n",
    "    \"\"\"\n",
    "\n",
    "    eta = s1 / s0\n",
    "    d_temp = 0.0\n",
    "\n",
    "    if (stretch > s0) and (stretch <= s1):\n",
    "        d_temp = 1 - ((eta - beta) / (eta - 1) * (s0 / stretch)) + ((1 - beta) / (eta - 1))\n",
    "        \n",
    "    elif (stretch > s1) and (stretch <= sc):\n",
    "        d_temp = 1 - (s0 * beta / stretch) * ((sc - stretch) / (sc - s1))\n",
    "    \n",
    "    elif stretch > sc:\n",
    "        d_temp = 1.0\n",
    "\n",
    "    # Bond softening factor can only increase (damage is irreversible)\n",
    "    if d_temp > d:\n",
    "        d = d_temp\n",
    "\n",
    "    return d\n"
   ]
  },
  {
   "cell_type": "markdown",
   "id": "43745454",
   "metadata": {},
   "source": [
    "### Smooth step data (apply boundary conditions)"
   ]
  },
  {
   "cell_type": "code",
   "execution_count": null,
   "id": "0aebd159",
   "metadata": {},
   "outputs": [],
   "source": [
    "@njit\n",
    "def smooth_step_data(current_time_step, start_time_step, final_time_step,\n",
    "                     start_value, final_value):\n",
    "    \"\"\"\n",
    "    Smooth 5th order polynomial\n",
    "    \"\"\"\n",
    "    xi = (current_time_step - start_time_step) / (final_time_step - start_time_step)\n",
    "    alpha = start_value + (final_value - start_value) * xi**3 * (10 - 15 * xi + 6 * xi**2)\n",
    "\n",
    "    return alpha"
   ]
  },
  {
   "cell_type": "markdown",
   "id": "01a76a23",
   "metadata": {},
   "source": [
    "### Read input file (HDF5 format)"
   ]
  },
  {
   "cell_type": "code",
   "execution_count": null,
   "id": "a0eba098",
   "metadata": {},
   "outputs": [],
   "source": [
    "def read_input_file(filename):\n",
    "    \"\"\"\n",
    "    Read input file \n",
    "    \n",
    "    Parameters\n",
    "    ----------\n",
    "    filename : str\n",
    "\n",
    "    Returns\n",
    "    -------\n",
    "    input_file : dict\n",
    "    \n",
    "    Notes\n",
    "    -----\n",
    "    * Is it possible to deconstuct a dictionary?\n",
    "    \n",
    "    \"\"\"\n",
    "    \n",
    "    input_file = {}\n",
    "    \n",
    "    with h5py.File(filename, \"r\") as h5file:\n",
    "        for key, values in h5file.items():\n",
    "            input_file[key] = np.array(values)\n",
    "\n",
    "    return input_file"
   ]
  },
  {
   "cell_type": "code",
   "execution_count": null,
   "id": "df030f33",
   "metadata": {},
   "outputs": [],
   "source": [
    "def read_array():\n",
    "    pass"
   ]
  },
  {
   "cell_type": "markdown",
   "id": "a59fc0f2",
   "metadata": {},
   "source": [
    "### Run simulation"
   ]
  },
  {
   "cell_type": "code",
   "execution_count": null,
   "id": "40de35cf",
   "metadata": {},
   "outputs": [],
   "source": [
    "def run_simulation(filename, dt, n_time_steps, damping, applied_displacement):\n",
    "    \n",
    "    input_file = read_input_file(filename)\n",
    "    \n",
    "    n_nodes = len(input_file['x'])\n",
    "    n_bonds = len(input_file['bondlist'])\n",
    "    \n",
    "    u = np.zeros([n_nodes, 2])\n",
    "    v = np.zeros([n_nodes, 2])\n",
    "    a = np.zeros([n_nodes, 2])\n",
    "    node_force = np.zeros([n_nodes, 2])\n",
    "\n",
    "    d = np.zeros([n_bonds, ])\n",
    "    f_x = np.zeros([n_bonds, ])\n",
    "    f_y = np.zeros([n_bonds, ])\n",
    "    f_z = np.zeros([n_bonds, ])\n",
    "    \n",
    "    for i_time_step in range(n_time_steps):\n",
    "        \n",
    "        displacement_increment = smooth_step_data(i_time_step, 0, n_time_steps, 0, applied_displacement)\n",
    "        \n",
    "        node_force_, d = calculate_nodal_forces(input_file['bondlist'], input_file['x'], u, d, input_file['c'], \n",
    "                                               input_file['cell_volume'], input_file['sc'], f_x, f_y, f_z, \n",
    "                                               node_force.copy())\n",
    "        \n",
    "        u, v = update_nodal_positions(node_force_, u, v, a, damping, input_file['density'], \n",
    "                                      dt, input_file['bc_flag'], displacement_increment,\n",
    "                                      input_file['bc_unit_vector'])\n",
    "            \n",
    "    print('Time stepping finished')\n",
    "    return input_file['x'], u"
   ]
  },
  {
   "cell_type": "code",
   "execution_count": null,
   "id": "322554f9",
   "metadata": {},
   "outputs": [],
   "source": [
    "dt = 1e-7\n",
    "n_time_steps = 50000\n",
    "damping = 0\n",
    "applied_displacement = 1e-2\n",
    "\n",
    "x, u = run_simulation('2D_plate.h5', dt, n_time_steps, damping, applied_displacement)"
   ]
  },
  {
   "cell_type": "code",
   "execution_count": null,
   "id": "9e9007dc",
   "metadata": {},
   "outputs": [],
   "source": [
    "fig = plt.figure(figsize=(12,6))\n",
    "ax = fig.add_subplot(111)\n",
    "ax.scatter(x[:,0] + (u[:,0] * 100), x[:,1] + (u[:,1] * 100), s=20)\n",
    "plt.axis('equal')"
   ]
  }
 ],
 "metadata": {
  "kernelspec": {
   "display_name": "Python 3 (ipykernel)",
   "language": "python",
   "name": "python3"
  },
  "language_info": {
   "codemirror_mode": {
    "name": "ipython",
    "version": 3
   },
   "file_extension": ".py",
   "mimetype": "text/x-python",
   "name": "python",
   "nbconvert_exporter": "python",
   "pygments_lexer": "ipython3",
   "version": "3.8.12"
  }
 },
 "nbformat": 4,
 "nbformat_minor": 5
}
